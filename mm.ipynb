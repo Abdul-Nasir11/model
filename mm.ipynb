{
 "cells": [
  {
   "cell_type": "code",
   "execution_count": 240,
   "metadata": {},
   "outputs": [],
   "source": [
    "import torch\r\n",
    "# from torchsummary import summary\r\n",
    "import torch.nn as nn\r\n"
   ]
  },
  {
   "cell_type": "code",
   "execution_count": 241,
   "metadata": {},
   "outputs": [],
   "source": [
    "# e.g 512,512\r\n",
    "\r\n",
    "class Downsample(nn.Module):\r\n",
    "    def __init__(self,\r\n",
    "                 in_channels,\r\n",
    "                 out_channels=32,\r\n",
    "                #  internal_ratio=4,\r\n",
    "                 kernel_size=3,\r\n",
    "                 padding=0,\r\n",
    "                 dropout_prob=0.,\r\n",
    "                 stride = 2,\r\n",
    "                 bias=False,\r\n",
    "                 relu=True,\r\n",
    "                 out_channels_div= [11,9,9] \r\n",
    "            ):\r\n",
    "        super(Downsample,self).__init__()\r\n",
    "\r\n",
    "\r\n",
    "        if relu:\r\n",
    "            activation = nn.ReLU()\r\n",
    "        else:\r\n",
    "            activation = nn.PReLU()\r\n",
    "\r\n",
    "        self.conv2d_d1 = nn.Conv2d(in_channels=in_channels, out_channels=out_channels_div[0],kernel_size=kernel_size, stride=stride, padding=padding, bias=bias, dilation=1)\r\n",
    "        self.conv2d_d2 = nn.Conv2d(in_channels=in_channels, out_channels=out_channels_div[1],kernel_size=kernel_size, stride=stride, padding=1, bias=bias, dilation=2)\r\n",
    "        self.conv2d_d5 = nn.Conv2d(in_channels=in_channels, out_channels=out_channels_div[2],kernel_size=kernel_size, stride=stride, padding=4, bias=bias, dilation=5)\r\n",
    "        self.ext_branch = nn.MaxPool2d(kernel_size, stride=2, padding=padding)\r\n",
    "        # self.half = nn.MaxPool2d(2, stride=2)\r\n",
    "        self.activation = activation\r\n",
    "        self.batch_norm = nn.BatchNorm2d(out_channels)\r\n",
    "\r\n",
    "    def forward(self, input):\r\n",
    "        print('input:', input.shape)\r\n",
    "        main1_d1= self.conv2d_d1(input)\r\n",
    "        print('dialation 1:',main1_d1.shape)\r\n",
    "        main2_d2 = self.conv2d_d2(input)\r\n",
    "        print('dialation 2', main2_d2.shape)\r\n",
    "        main3_d5 = self.conv2d_d5(input)\r\n",
    "        print('dialation 5:',main3_d5.shape)\r\n",
    "        # ext1=self.half(input)\r\n",
    "        ext1 = self.ext_branch(input)\r\n",
    "        print(ext1.shape)\r\n",
    "        \r\n",
    "        \r\n",
    "        \r\n",
    "        out = torch.cat((main1_d1,main2_d2,main3_d5,ext1), dim=1)\r\n",
    "        print('out after concate', out.shape)\r\n",
    "        out = self.batch_norm(out)\r\n",
    "        out = self.activation(out)\r\n",
    "        # print('final', out)\r\n",
    "\r\n",
    "\r\n",
    "        return out\r\n",
    "\r\n"
   ]
  },
  {
   "cell_type": "code",
   "execution_count": 242,
   "metadata": {},
   "outputs": [],
   "source": [
    "model = Downsample(in_channels=3)"
   ]
  },
  {
   "cell_type": "code",
   "execution_count": 243,
   "metadata": {},
   "outputs": [
    {
     "name": "stdout",
     "output_type": "stream",
     "text": [
      "input: torch.Size([1, 3, 360, 640])\n",
      "dialation 1: torch.Size([1, 11, 179, 319])\n",
      "dialation 2 torch.Size([1, 9, 179, 319])\n",
      "dialation 5: torch.Size([1, 9, 179, 319])\n",
      "torch.Size([1, 3, 179, 319])\n",
      "out after concate torch.Size([1, 32, 179, 319])\n"
     ]
    }
   ],
   "source": [
    "x = torch.randn(1,3, 360, 640)\r\n",
    "xx = model(x)"
   ]
  },
  {
   "cell_type": "code",
   "execution_count": null,
   "metadata": {},
   "outputs": [],
   "source": []
  },
  {
   "cell_type": "code",
   "execution_count": 244,
   "metadata": {},
   "outputs": [
    {
     "name": "stdout",
     "output_type": "stream",
     "text": [
      "Downsample(\n",
      "  (conv2d_d1): Conv2d(3, 11, kernel_size=(3, 3), stride=(2, 2), bias=False)\n",
      "  (conv2d_d2): Conv2d(3, 9, kernel_size=(3, 3), stride=(2, 2), padding=(1, 1), dilation=(2, 2), bias=False)\n",
      "  (conv2d_d5): Conv2d(3, 9, kernel_size=(3, 3), stride=(2, 2), padding=(4, 4), dilation=(5, 5), bias=False)\n",
      "  (ext_branch): MaxPool2d(kernel_size=3, stride=2, padding=0, dilation=1, ceil_mode=False)\n",
      "  (activation): ReLU()\n",
      "  (batch_norm): BatchNorm2d(32, eps=1e-05, momentum=0.1, affine=True, track_running_stats=True)\n",
      ")\n"
     ]
    }
   ],
   "source": [
    "print(model)"
   ]
  },
  {
   "cell_type": "code",
   "execution_count": 285,
   "metadata": {},
   "outputs": [],
   "source": [
    "# e.g 512,512\r\n",
    "\r\n",
    "class Regular(nn.Module):\r\n",
    "    def __init__(self,\r\n",
    "                 in_channels=32,\r\n",
    "                 out_channels=32,\r\n",
    "                #  internal_ratio=4,\r\n",
    "                 kernel_size=3,\r\n",
    "                 padding=0,\r\n",
    "                 dropout_prob=0.,\r\n",
    "                 stride = 1,\r\n",
    "                 bias=False,\r\n",
    "                 relu=True, \r\n",
    "                 out_channels_div = [11,11,10]\r\n",
    "                 \r\n",
    "                 ):\r\n",
    "        super(Regular,self).__init__()\r\n",
    "\r\n",
    "\r\n",
    "        if relu:\r\n",
    "            activation = nn.ReLU()\r\n",
    "        else:\r\n",
    "            activation = nn.PReLU()\r\n",
    "\r\n",
    "        self.conv2d_d1 = nn.Conv2d(in_channels=in_channels, out_channels=out_channels_div[0],kernel_size=kernel_size, stride=stride, padding=1, bias=bias, dilation=1)\r\n",
    "        self.conv2d_d2 = nn.Conv2d(in_channels=in_channels, out_channels=out_channels_div[1],kernel_size=kernel_size, stride=stride, padding=2, bias=bias, dilation=2)\r\n",
    "        self.conv2d_d5 = nn.Conv2d(in_channels=in_channels, out_channels=out_channels_div[2],kernel_size=kernel_size, stride=stride, padding=5, bias=bias, dilation=5)\r\n",
    "        # self.half = nn.MaxPool2d(2, stride=2)\r\n",
    "        self.activation = activation\r\n",
    "        self.batch_norm = nn.BatchNorm2d(out_channels)\r\n",
    "\r\n",
    "    def forward(self, input):\r\n",
    "        # print('input:', input.shape)\r\n",
    "        main1_d1= self.conv2d_d1(input)\r\n",
    "        print('dialation 1:',main1_d1.shape)\r\n",
    "        main2_d2 = self.conv2d_d2(input)\r\n",
    "        print('dialation 2', main2_d2.shape)\r\n",
    "        main3_d5 = self.conv2d_d5(input)\r\n",
    "        print('dialation 5:',main3_d5.shape)\r\n",
    "        # ext1=self.half(input)\r\n",
    "        \r\n",
    "        \r\n",
    "        \r\n",
    "        out = torch.cat((main1_d1,main2_d2,main3_d5), dim=1)\r\n",
    "        print('out after concate', out.shape)\r\n",
    "        out = self.batch_norm(out)\r\n",
    "        out = self.activation(out)\r\n",
    "        # print('final', out)\r\n",
    "\r\n",
    "\r\n",
    "        return out\r\n",
    "\r\n"
   ]
  },
  {
   "cell_type": "code",
   "execution_count": 246,
   "metadata": {},
   "outputs": [],
   "source": [
    "model2 = Regular(3)"
   ]
  },
  {
   "cell_type": "code",
   "execution_count": 247,
   "metadata": {},
   "outputs": [
    {
     "name": "stdout",
     "output_type": "stream",
     "text": [
      "dialation 1: torch.Size([1, 11, 360, 640])\n",
      "dialation 2 torch.Size([1, 11, 360, 640])\n",
      "dialation 5: torch.Size([1, 10, 360, 640])\n",
      "out after concate torch.Size([1, 32, 360, 640])\n"
     ]
    },
    {
     "data": {
      "text/plain": [
       "tensor([[[[0.0000, 0.3802, 0.7758,  ..., 0.0000, 0.0000, 0.8525],\n",
       "          [0.0620, 0.9355, 1.2865,  ..., 0.0000, 0.0000, 1.1768],\n",
       "          [0.0000, 1.3972, 1.0617,  ..., 1.7849, 0.0000, 0.7831],\n",
       "          ...,\n",
       "          [0.0000, 1.2982, 0.0000,  ..., 2.6496, 0.0000, 0.0000],\n",
       "          [0.0000, 0.0391, 0.0000,  ..., 0.3552, 0.0000, 0.1680],\n",
       "          [0.8402, 0.0000, 0.0000,  ..., 0.0750, 0.0000, 0.0000]],\n",
       "\n",
       "         [[0.3244, 0.5003, 0.2311,  ..., 0.0000, 0.0000, 0.0000],\n",
       "          [0.0000, 0.0000, 0.0000,  ..., 0.4729, 0.0000, 0.7840],\n",
       "          [1.2017, 0.0000, 0.3602,  ..., 0.0000, 0.0000, 0.0000],\n",
       "          ...,\n",
       "          [1.5101, 0.6026, 0.0000,  ..., 0.0000, 0.0000, 0.2014],\n",
       "          [0.0000, 0.0000, 1.3153,  ..., 0.6622, 0.2500, 0.1958],\n",
       "          [0.8610, 0.0906, 0.0000,  ..., 0.7820, 0.0000, 0.0000]],\n",
       "\n",
       "         [[0.1862, 0.1276, 0.7621,  ..., 0.0000, 0.0352, 0.0000],\n",
       "          [0.2457, 0.9145, 0.0000,  ..., 0.0000, 0.4412, 0.7753],\n",
       "          [0.0000, 0.0000, 0.0000,  ..., 0.0000, 0.0000, 0.1230],\n",
       "          ...,\n",
       "          [0.3529, 0.3714, 0.0000,  ..., 0.0000, 0.1099, 0.0000],\n",
       "          [0.6208, 0.0000, 0.0000,  ..., 0.0000, 0.4022, 0.0000],\n",
       "          [0.0962, 0.0000, 0.0000,  ..., 0.8789, 0.0000, 0.0000]],\n",
       "\n",
       "         ...,\n",
       "\n",
       "         [[0.0000, 0.0876, 0.0000,  ..., 0.0000, 0.0000, 0.0000],\n",
       "          [0.8145, 0.0000, 0.0000,  ..., 0.2455, 0.3788, 0.4660],\n",
       "          [1.0756, 0.0000, 0.0000,  ..., 0.0000, 0.0723, 0.1593],\n",
       "          ...,\n",
       "          [0.0983, 0.0000, 0.4000,  ..., 0.0000, 0.0000, 0.7936],\n",
       "          [0.0000, 0.0000, 0.0000,  ..., 0.2654, 0.0000, 0.0000],\n",
       "          [0.3111, 0.5440, 0.0000,  ..., 0.0680, 0.0000, 0.0784]],\n",
       "\n",
       "         [[0.1669, 0.0000, 0.0000,  ..., 0.1797, 0.4628, 0.2209],\n",
       "          [0.0000, 0.5908, 0.0000,  ..., 0.0000, 0.4388, 0.0000],\n",
       "          [0.2628, 0.0000, 0.0000,  ..., 0.0000, 0.3858, 0.0000],\n",
       "          ...,\n",
       "          [0.0000, 1.4669, 1.1068,  ..., 0.2244, 0.0000, 0.2773],\n",
       "          [0.0000, 0.0000, 0.0000,  ..., 0.4720, 0.0000, 0.1767],\n",
       "          [0.0000, 0.0000, 0.3841,  ..., 0.2708, 0.0000, 0.0000]],\n",
       "\n",
       "         [[0.0000, 0.0000, 0.0000,  ..., 0.0000, 0.0000, 0.0000],\n",
       "          [0.0000, 0.6838, 1.3177,  ..., 0.0669, 0.0699, 1.0957],\n",
       "          [0.0000, 0.0000, 1.1847,  ..., 0.7591, 0.0000, 0.0000],\n",
       "          ...,\n",
       "          [0.0000, 0.9751, 0.2588,  ..., 0.5369, 0.3837, 0.6186],\n",
       "          [0.0000, 0.0000, 0.0000,  ..., 0.9566, 0.5032, 0.4591],\n",
       "          [0.8183, 0.1559, 0.0000,  ..., 0.1700, 0.0000, 0.0000]]]],\n",
       "       grad_fn=<ReluBackward0>)"
      ]
     },
     "execution_count": 247,
     "metadata": {},
     "output_type": "execute_result"
    }
   ],
   "source": [
    "model2(x)"
   ]
  },
  {
   "cell_type": "code",
   "execution_count": 248,
   "metadata": {},
   "outputs": [
    {
     "name": "stdout",
     "output_type": "stream",
     "text": [
      "Regular(\n",
      "  (conv2d_d1): Conv2d(3, 11, kernel_size=(3, 3), stride=(1, 1), padding=(1, 1), bias=False)\n",
      "  (conv2d_d2): Conv2d(3, 11, kernel_size=(3, 3), stride=(1, 1), padding=(2, 2), dilation=(2, 2), bias=False)\n",
      "  (conv2d_d5): Conv2d(3, 10, kernel_size=(3, 3), stride=(1, 1), padding=(5, 5), dilation=(5, 5), bias=False)\n",
      "  (activation): ReLU()\n",
      "  (batch_norm): BatchNorm2d(32, eps=1e-05, momentum=0.1, affine=True, track_running_stats=True)\n",
      ")\n"
     ]
    }
   ],
   "source": [
    "print(model2)"
   ]
  },
  {
   "cell_type": "code",
   "execution_count": 249,
   "metadata": {},
   "outputs": [],
   "source": [
    "class Encoder(nn.Module):\r\n",
    "    def __init__(self, classes, encoder_relu=False, decoder_relu=True):\r\n",
    "        super().__init__()\r\n",
    "        self.downsample_1 = Downsample(in_channels=3,out_channels=32, kernel_size=3, relu=True, out_channels_div=[11,9,9])\r\n",
    "        self.regular_1 = Regular(in_channels=32, out_channels=32, kernel_size=3, out_channels_div=[11,11,10])\r\n",
    "        self.downsample_2 = Downsample(in_channels=32, out_channels=64, kernel_size=3,relu=True, out_channels_div=[11,11,10])\r\n",
    "        self.regular_2 = Regular(in_channels=64, out_channels=64,out_channels_div=[22,21,21])\r\n",
    "        self.downsample_3 = Downsample(in_channels=64, out_channels=128, out_channels_div=[22,21,21])\r\n",
    "        self.regular_3 = Regular(in_channels=128, out_channels=128, out_channels_div=[43,43,42])\r\n",
    "        self.regular_4 = Regular(in_channels=128, out_channels=128, out_channels_div=[43,43,42] )\r\n",
    "\r\n",
    "    \r\n",
    "\r\n",
    "\r\n",
    "    def forward(self, input):\r\n",
    "        x = self.downsample_1(input)\r\n",
    "        x = self.regular_1(x)\r\n",
    "        x = self.downsample_2(x)\r\n",
    "        x = self.regular_2(x)\r\n",
    "        x = self.downsample_3(x)\r\n",
    "        x= self.regular_3(x)\r\n",
    "        x= self.regular_4(x)\r\n",
    "\r\n",
    "        return x\r\n",
    "\r\n",
    "        \r\n"
   ]
  },
  {
   "cell_type": "code",
   "execution_count": 250,
   "metadata": {},
   "outputs": [],
   "source": [
    "encoder = Encoder(3)"
   ]
  },
  {
   "cell_type": "code",
   "execution_count": 251,
   "metadata": {},
   "outputs": [
    {
     "name": "stdout",
     "output_type": "stream",
     "text": [
      "input: torch.Size([1, 3, 360, 640])\n",
      "dialation 1: torch.Size([1, 11, 179, 319])\n",
      "dialation 2 torch.Size([1, 9, 179, 319])\n",
      "dialation 5: torch.Size([1, 9, 179, 319])\n",
      "torch.Size([1, 3, 179, 319])\n",
      "out after concate torch.Size([1, 32, 179, 319])\n",
      "dialation 1: torch.Size([1, 11, 179, 319])\n",
      "dialation 2 torch.Size([1, 11, 179, 319])\n",
      "dialation 5: torch.Size([1, 10, 179, 319])\n",
      "out after concate torch.Size([1, 32, 179, 319])\n",
      "input: torch.Size([1, 32, 179, 319])\n",
      "dialation 1: torch.Size([1, 11, 89, 159])\n",
      "dialation 2 torch.Size([1, 11, 89, 159])\n",
      "dialation 5: torch.Size([1, 10, 89, 159])\n",
      "torch.Size([1, 32, 89, 159])\n",
      "out after concate torch.Size([1, 64, 89, 159])\n",
      "dialation 1: torch.Size([1, 22, 89, 159])\n",
      "dialation 2 torch.Size([1, 21, 89, 159])\n",
      "dialation 5: torch.Size([1, 21, 89, 159])\n",
      "out after concate torch.Size([1, 64, 89, 159])\n",
      "input: torch.Size([1, 64, 89, 159])\n",
      "dialation 1: torch.Size([1, 22, 44, 79])\n",
      "dialation 2 torch.Size([1, 21, 44, 79])\n",
      "dialation 5: torch.Size([1, 21, 44, 79])\n",
      "torch.Size([1, 64, 44, 79])\n",
      "out after concate torch.Size([1, 128, 44, 79])\n",
      "dialation 1: torch.Size([1, 43, 44, 79])\n",
      "dialation 2 torch.Size([1, 43, 44, 79])\n",
      "dialation 5: torch.Size([1, 42, 44, 79])\n",
      "out after concate torch.Size([1, 128, 44, 79])\n",
      "dialation 1: torch.Size([1, 43, 44, 79])\n",
      "dialation 2 torch.Size([1, 43, 44, 79])\n",
      "dialation 5: torch.Size([1, 42, 44, 79])\n",
      "out after concate torch.Size([1, 128, 44, 79])\n",
      "tensor([[[[0.3043, 0.2621, 0.0000,  ..., 0.6476, 0.0000, 1.1032],\n",
      "          [0.7967, 0.0000, 0.5681,  ..., 1.5168, 0.4333, 0.7030],\n",
      "          [0.6629, 0.3017, 0.3554,  ..., 0.0666, 0.0000, 0.0000],\n",
      "          ...,\n",
      "          [0.0000, 0.4142, 0.4398,  ..., 0.6854, 0.0000, 0.8389],\n",
      "          [0.0000, 0.0000, 0.0069,  ..., 0.8932, 0.6977, 0.0000],\n",
      "          [0.2296, 0.0000, 0.2773,  ..., 0.0000, 0.0000, 0.0647]],\n",
      "\n",
      "         [[0.0000, 0.0000, 0.0000,  ..., 0.2571, 0.0000, 0.0000],\n",
      "          [0.0000, 0.0000, 0.0000,  ..., 0.0000, 0.0000, 0.0000],\n",
      "          [0.0000, 0.0000, 0.0000,  ..., 0.0000, 0.0000, 0.0000],\n",
      "          ...,\n",
      "          [0.0000, 0.0000, 0.0000,  ..., 0.0000, 0.0000, 0.1653],\n",
      "          [0.0000, 0.0000, 0.0000,  ..., 0.0858, 0.0744, 0.0000],\n",
      "          [0.0000, 0.0000, 0.0000,  ..., 0.0000, 0.0000, 0.0739]],\n",
      "\n",
      "         [[0.0000, 0.0000, 0.0000,  ..., 0.0000, 0.0000, 0.0000],\n",
      "          [0.0000, 0.0000, 0.0000,  ..., 0.0000, 0.4341, 0.4724],\n",
      "          [0.0000, 0.0000, 0.0000,  ..., 1.1885, 0.0000, 0.2340],\n",
      "          ...,\n",
      "          [0.0000, 0.0000, 0.0433,  ..., 0.0000, 0.0000, 0.0000],\n",
      "          [0.0000, 0.0000, 0.3250,  ..., 0.0000, 0.0000, 0.0000],\n",
      "          [0.1573, 0.0000, 0.1637,  ..., 0.0000, 0.0000, 0.0000]],\n",
      "\n",
      "         ...,\n",
      "\n",
      "         [[0.2291, 0.0000, 0.0000,  ..., 0.3419, 1.2889, 1.8564],\n",
      "          [0.8825, 0.0499, 0.2960,  ..., 0.2912, 1.7395, 1.5131],\n",
      "          [0.6032, 0.2350, 0.0000,  ..., 0.6027, 0.2320, 1.8318],\n",
      "          ...,\n",
      "          [0.5786, 0.5177, 0.0000,  ..., 0.2240, 0.0000, 0.2152],\n",
      "          [0.3254, 0.1150, 0.0000,  ..., 0.9475, 0.0000, 0.2267],\n",
      "          [0.2595, 0.3483, 0.1972,  ..., 1.2647, 0.3273, 0.2112]],\n",
      "\n",
      "         [[0.2373, 0.0000, 0.7355,  ..., 0.1551, 0.0000, 0.0000],\n",
      "          [0.5997, 0.0000, 2.0199,  ..., 0.0000, 0.1079, 0.0000],\n",
      "          [0.0000, 0.0000, 0.0429,  ..., 0.0000, 0.0000, 0.7915],\n",
      "          ...,\n",
      "          [0.0000, 0.0429, 0.1353,  ..., 0.7748, 0.0000, 0.0000],\n",
      "          [0.0000, 0.0000, 0.7408,  ..., 0.0000, 0.0000, 0.0000],\n",
      "          [0.2501, 0.0000, 0.0000,  ..., 0.0231, 0.0000, 0.0000]],\n",
      "\n",
      "         [[0.0000, 1.1873, 0.0000,  ..., 0.0000, 0.4893, 0.4081],\n",
      "          [0.0000, 0.0000, 0.5341,  ..., 0.0465, 0.9205, 1.2056],\n",
      "          [0.2724, 0.2707, 0.0000,  ..., 0.0000, 0.4149, 0.4799],\n",
      "          ...,\n",
      "          [0.0778, 0.0000, 0.7103,  ..., 0.0000, 0.4492, 0.0815],\n",
      "          [0.0000, 0.0000, 0.5931,  ..., 0.0000, 0.3573, 0.0000],\n",
      "          [0.1271, 0.0000, 0.5834,  ..., 0.4326, 0.5878, 0.0000]]]],\n",
      "       grad_fn=<ReluBackward0>)\n"
     ]
    }
   ],
   "source": [
    "out = encoder(x)\r\n",
    "print(out)"
   ]
  },
  {
   "cell_type": "code",
   "execution_count": 252,
   "metadata": {},
   "outputs": [
    {
     "name": "stdout",
     "output_type": "stream",
     "text": [
      "Encoder(\n",
      "  (downsample_1): Downsample(\n",
      "    (conv2d_d1): Conv2d(3, 11, kernel_size=(3, 3), stride=(2, 2), bias=False)\n",
      "    (conv2d_d2): Conv2d(3, 9, kernel_size=(3, 3), stride=(2, 2), padding=(1, 1), dilation=(2, 2), bias=False)\n",
      "    (conv2d_d5): Conv2d(3, 9, kernel_size=(3, 3), stride=(2, 2), padding=(4, 4), dilation=(5, 5), bias=False)\n",
      "    (ext_branch): MaxPool2d(kernel_size=3, stride=2, padding=0, dilation=1, ceil_mode=False)\n",
      "    (activation): ReLU()\n",
      "    (batch_norm): BatchNorm2d(32, eps=1e-05, momentum=0.1, affine=True, track_running_stats=True)\n",
      "  )\n",
      "  (regular_1): Regular(\n",
      "    (conv2d_d1): Conv2d(32, 11, kernel_size=(3, 3), stride=(1, 1), padding=(1, 1), bias=False)\n",
      "    (conv2d_d2): Conv2d(32, 11, kernel_size=(3, 3), stride=(1, 1), padding=(2, 2), dilation=(2, 2), bias=False)\n",
      "    (conv2d_d5): Conv2d(32, 10, kernel_size=(3, 3), stride=(1, 1), padding=(5, 5), dilation=(5, 5), bias=False)\n",
      "    (activation): ReLU()\n",
      "    (batch_norm): BatchNorm2d(32, eps=1e-05, momentum=0.1, affine=True, track_running_stats=True)\n",
      "  )\n",
      "  (downsample_2): Downsample(\n",
      "    (conv2d_d1): Conv2d(32, 11, kernel_size=(3, 3), stride=(2, 2), bias=False)\n",
      "    (conv2d_d2): Conv2d(32, 11, kernel_size=(3, 3), stride=(2, 2), padding=(1, 1), dilation=(2, 2), bias=False)\n",
      "    (conv2d_d5): Conv2d(32, 10, kernel_size=(3, 3), stride=(2, 2), padding=(4, 4), dilation=(5, 5), bias=False)\n",
      "    (ext_branch): MaxPool2d(kernel_size=3, stride=2, padding=0, dilation=1, ceil_mode=False)\n",
      "    (activation): ReLU()\n",
      "    (batch_norm): BatchNorm2d(64, eps=1e-05, momentum=0.1, affine=True, track_running_stats=True)\n",
      "  )\n",
      "  (regular_2): Regular(\n",
      "    (conv2d_d1): Conv2d(64, 22, kernel_size=(3, 3), stride=(1, 1), padding=(1, 1), bias=False)\n",
      "    (conv2d_d2): Conv2d(64, 21, kernel_size=(3, 3), stride=(1, 1), padding=(2, 2), dilation=(2, 2), bias=False)\n",
      "    (conv2d_d5): Conv2d(64, 21, kernel_size=(3, 3), stride=(1, 1), padding=(5, 5), dilation=(5, 5), bias=False)\n",
      "    (activation): ReLU()\n",
      "    (batch_norm): BatchNorm2d(64, eps=1e-05, momentum=0.1, affine=True, track_running_stats=True)\n",
      "  )\n",
      "  (downsample_3): Downsample(\n",
      "    (conv2d_d1): Conv2d(64, 22, kernel_size=(3, 3), stride=(2, 2), bias=False)\n",
      "    (conv2d_d2): Conv2d(64, 21, kernel_size=(3, 3), stride=(2, 2), padding=(1, 1), dilation=(2, 2), bias=False)\n",
      "    (conv2d_d5): Conv2d(64, 21, kernel_size=(3, 3), stride=(2, 2), padding=(4, 4), dilation=(5, 5), bias=False)\n",
      "    (ext_branch): MaxPool2d(kernel_size=3, stride=2, padding=0, dilation=1, ceil_mode=False)\n",
      "    (activation): ReLU()\n",
      "    (batch_norm): BatchNorm2d(128, eps=1e-05, momentum=0.1, affine=True, track_running_stats=True)\n",
      "  )\n",
      "  (regular_3): Regular(\n",
      "    (conv2d_d1): Conv2d(128, 43, kernel_size=(3, 3), stride=(1, 1), padding=(1, 1), bias=False)\n",
      "    (conv2d_d2): Conv2d(128, 43, kernel_size=(3, 3), stride=(1, 1), padding=(2, 2), dilation=(2, 2), bias=False)\n",
      "    (conv2d_d5): Conv2d(128, 42, kernel_size=(3, 3), stride=(1, 1), padding=(5, 5), dilation=(5, 5), bias=False)\n",
      "    (activation): ReLU()\n",
      "    (batch_norm): BatchNorm2d(128, eps=1e-05, momentum=0.1, affine=True, track_running_stats=True)\n",
      "  )\n",
      "  (regular_4): Regular(\n",
      "    (conv2d_d1): Conv2d(128, 43, kernel_size=(3, 3), stride=(1, 1), padding=(1, 1), bias=False)\n",
      "    (conv2d_d2): Conv2d(128, 43, kernel_size=(3, 3), stride=(1, 1), padding=(2, 2), dilation=(2, 2), bias=False)\n",
      "    (conv2d_d5): Conv2d(128, 42, kernel_size=(3, 3), stride=(1, 1), padding=(5, 5), dilation=(5, 5), bias=False)\n",
      "    (activation): ReLU()\n",
      "    (batch_norm): BatchNorm2d(128, eps=1e-05, momentum=0.1, affine=True, track_running_stats=True)\n",
      "  )\n",
      ")\n"
     ]
    }
   ],
   "source": [
    "print(encoder)"
   ]
  },
  {
   "cell_type": "code",
   "execution_count": 300,
   "metadata": {},
   "outputs": [],
   "source": [
    "class Upsample(nn.Module):\r\n",
    "    def __init__(self, in_channels, out_channels, kernel_size = 3):\r\n",
    "        super().__init__()\r\n",
    "        \r\n",
    "        self.conv = nn.ConvTranspose2d(in_channels= in_channels, out_channels=out_channels, stride=2, kernel_size=kernel_size, padding=0, output_padding=0, bias=True)\r\n",
    "        # self.bn = nn.BatchNorm2d(noutput, eps=1e-3)     # ERFNet batchnorm with eps = e-5\r\n",
    "        self.batch_norm = nn.BatchNorm2d(out_channels)\r\n",
    "        self.regular_de_1=Regular(in_channels=64, out_channels=64, out_channels_div=[22,21,21])\r\n",
    "    def forward(self, input):\r\n",
    "        print('Input Shape: ', input.shape)\r\n",
    "        output = self.conv(input)\r\n",
    "        output = self.batch_norm(output)\r\n",
    "        print('Output Shape: ', output.shape)\r\n",
    "        output = nn.ReLU(output)\r\n",
    "        \r\n",
    "        output = self.regular_de_1(output)\r\n",
    "        output = nn.ReLU(output)\r\n",
    "        return output"
   ]
  },
  {
   "cell_type": "code",
   "execution_count": 301,
   "metadata": {},
   "outputs": [],
   "source": [
    "test = Upsample(in_channels=128, out_channels=64) "
   ]
  },
  {
   "cell_type": "code",
   "execution_count": 302,
   "metadata": {},
   "outputs": [],
   "source": [
    "t= torch.rand(1,128,44,79)"
   ]
  },
  {
   "cell_type": "code",
   "execution_count": 303,
   "metadata": {},
   "outputs": [
    {
     "name": "stdout",
     "output_type": "stream",
     "text": [
      "Input Shape:  torch.Size([1, 128, 44, 79])\n",
      "Output Shape:  torch.Size([1, 64, 89, 159])\n"
     ]
    },
    {
     "ename": "TypeError",
     "evalue": "conv2d() received an invalid combination of arguments - got (ReLU, Parameter, NoneType, tuple, tuple, tuple, int), but expected one of:\n * (Tensor input, Tensor weight, Tensor bias, tuple of ints stride, tuple of ints padding, tuple of ints dilation, int groups)\n      didn't match because some of the arguments have invalid types: (!ReLU!, !Parameter!, !NoneType!, !tuple!, !tuple!, !tuple!, int)\n * (Tensor input, Tensor weight, Tensor bias, tuple of ints stride, str padding, tuple of ints dilation, int groups)\n      didn't match because some of the arguments have invalid types: (!ReLU!, !Parameter!, !NoneType!, !tuple!, !tuple!, !tuple!, int)\n",
     "output_type": "error",
     "traceback": [
      "\u001b[1;31m---------------------------------------------------------------------------\u001b[0m",
      "\u001b[1;31mTypeError\u001b[0m                                 Traceback (most recent call last)",
      "\u001b[1;32m~\\AppData\\Local\\Temp/ipykernel_2936/3703066629.py\u001b[0m in \u001b[0;36m<module>\u001b[1;34m\u001b[0m\n\u001b[1;32m----> 1\u001b[1;33m \u001b[0my\u001b[0m \u001b[1;33m=\u001b[0m \u001b[0mtest\u001b[0m\u001b[1;33m(\u001b[0m\u001b[0mt\u001b[0m\u001b[1;33m)\u001b[0m\u001b[1;33m\u001b[0m\u001b[1;33m\u001b[0m\u001b[0m\n\u001b[0m",
      "\u001b[1;32m~\\.conda\\envs\\torch\\lib\\site-packages\\torch\\nn\\modules\\module.py\u001b[0m in \u001b[0;36m_call_impl\u001b[1;34m(self, *input, **kwargs)\u001b[0m\n\u001b[0;32m   1049\u001b[0m         if not (self._backward_hooks or self._forward_hooks or self._forward_pre_hooks or _global_backward_hooks\n\u001b[0;32m   1050\u001b[0m                 or _global_forward_hooks or _global_forward_pre_hooks):\n\u001b[1;32m-> 1051\u001b[1;33m             \u001b[1;32mreturn\u001b[0m \u001b[0mforward_call\u001b[0m\u001b[1;33m(\u001b[0m\u001b[1;33m*\u001b[0m\u001b[0minput\u001b[0m\u001b[1;33m,\u001b[0m \u001b[1;33m**\u001b[0m\u001b[0mkwargs\u001b[0m\u001b[1;33m)\u001b[0m\u001b[1;33m\u001b[0m\u001b[1;33m\u001b[0m\u001b[0m\n\u001b[0m\u001b[0;32m   1052\u001b[0m         \u001b[1;31m# Do not call functions when jit is used\u001b[0m\u001b[1;33m\u001b[0m\u001b[1;33m\u001b[0m\u001b[1;33m\u001b[0m\u001b[0m\n\u001b[0;32m   1053\u001b[0m         \u001b[0mfull_backward_hooks\u001b[0m\u001b[1;33m,\u001b[0m \u001b[0mnon_full_backward_hooks\u001b[0m \u001b[1;33m=\u001b[0m \u001b[1;33m[\u001b[0m\u001b[1;33m]\u001b[0m\u001b[1;33m,\u001b[0m \u001b[1;33m[\u001b[0m\u001b[1;33m]\u001b[0m\u001b[1;33m\u001b[0m\u001b[1;33m\u001b[0m\u001b[0m\n",
      "\u001b[1;32m~\\AppData\\Local\\Temp/ipykernel_2936/1467823336.py\u001b[0m in \u001b[0;36mforward\u001b[1;34m(self, input)\u001b[0m\n\u001b[0;32m     12\u001b[0m         \u001b[0mprint\u001b[0m\u001b[1;33m(\u001b[0m\u001b[1;34m'Output Shape: '\u001b[0m\u001b[1;33m,\u001b[0m \u001b[0moutput\u001b[0m\u001b[1;33m.\u001b[0m\u001b[0mshape\u001b[0m\u001b[1;33m)\u001b[0m\u001b[1;33m\u001b[0m\u001b[1;33m\u001b[0m\u001b[0m\n\u001b[0;32m     13\u001b[0m         \u001b[0moutput\u001b[0m \u001b[1;33m=\u001b[0m \u001b[0mnn\u001b[0m\u001b[1;33m.\u001b[0m\u001b[0mReLU\u001b[0m\u001b[1;33m(\u001b[0m\u001b[0moutput\u001b[0m\u001b[1;33m)\u001b[0m\u001b[1;33m\u001b[0m\u001b[1;33m\u001b[0m\u001b[0m\n\u001b[1;32m---> 14\u001b[1;33m         \u001b[0moutput\u001b[0m \u001b[1;33m=\u001b[0m \u001b[0mself\u001b[0m\u001b[1;33m.\u001b[0m\u001b[0mregular_de_1\u001b[0m\u001b[1;33m(\u001b[0m\u001b[0moutput\u001b[0m\u001b[1;33m)\u001b[0m\u001b[1;33m\u001b[0m\u001b[1;33m\u001b[0m\u001b[0m\n\u001b[0m\u001b[0;32m     15\u001b[0m         \u001b[0moutput\u001b[0m \u001b[1;33m=\u001b[0m \u001b[0mnn\u001b[0m\u001b[1;33m.\u001b[0m\u001b[0mReLU\u001b[0m\u001b[1;33m(\u001b[0m\u001b[0moutput\u001b[0m\u001b[1;33m)\u001b[0m\u001b[1;33m\u001b[0m\u001b[1;33m\u001b[0m\u001b[0m\n\u001b[0;32m     16\u001b[0m         \u001b[1;32mreturn\u001b[0m \u001b[0moutput\u001b[0m\u001b[1;33m\u001b[0m\u001b[1;33m\u001b[0m\u001b[0m\n",
      "\u001b[1;32m~\\.conda\\envs\\torch\\lib\\site-packages\\torch\\nn\\modules\\module.py\u001b[0m in \u001b[0;36m_call_impl\u001b[1;34m(self, *input, **kwargs)\u001b[0m\n\u001b[0;32m   1049\u001b[0m         if not (self._backward_hooks or self._forward_hooks or self._forward_pre_hooks or _global_backward_hooks\n\u001b[0;32m   1050\u001b[0m                 or _global_forward_hooks or _global_forward_pre_hooks):\n\u001b[1;32m-> 1051\u001b[1;33m             \u001b[1;32mreturn\u001b[0m \u001b[0mforward_call\u001b[0m\u001b[1;33m(\u001b[0m\u001b[1;33m*\u001b[0m\u001b[0minput\u001b[0m\u001b[1;33m,\u001b[0m \u001b[1;33m**\u001b[0m\u001b[0mkwargs\u001b[0m\u001b[1;33m)\u001b[0m\u001b[1;33m\u001b[0m\u001b[1;33m\u001b[0m\u001b[0m\n\u001b[0m\u001b[0;32m   1052\u001b[0m         \u001b[1;31m# Do not call functions when jit is used\u001b[0m\u001b[1;33m\u001b[0m\u001b[1;33m\u001b[0m\u001b[1;33m\u001b[0m\u001b[0m\n\u001b[0;32m   1053\u001b[0m         \u001b[0mfull_backward_hooks\u001b[0m\u001b[1;33m,\u001b[0m \u001b[0mnon_full_backward_hooks\u001b[0m \u001b[1;33m=\u001b[0m \u001b[1;33m[\u001b[0m\u001b[1;33m]\u001b[0m\u001b[1;33m,\u001b[0m \u001b[1;33m[\u001b[0m\u001b[1;33m]\u001b[0m\u001b[1;33m\u001b[0m\u001b[1;33m\u001b[0m\u001b[0m\n",
      "\u001b[1;32m~\\AppData\\Local\\Temp/ipykernel_2936/2299719665.py\u001b[0m in \u001b[0;36mforward\u001b[1;34m(self, input)\u001b[0m\n\u001b[0;32m     32\u001b[0m     \u001b[1;32mdef\u001b[0m \u001b[0mforward\u001b[0m\u001b[1;33m(\u001b[0m\u001b[0mself\u001b[0m\u001b[1;33m,\u001b[0m \u001b[0minput\u001b[0m\u001b[1;33m)\u001b[0m\u001b[1;33m:\u001b[0m\u001b[1;33m\u001b[0m\u001b[1;33m\u001b[0m\u001b[0m\n\u001b[0;32m     33\u001b[0m         \u001b[1;31m# print('input:', input.shape)\u001b[0m\u001b[1;33m\u001b[0m\u001b[1;33m\u001b[0m\u001b[1;33m\u001b[0m\u001b[0m\n\u001b[1;32m---> 34\u001b[1;33m         \u001b[0mmain1_d1\u001b[0m\u001b[1;33m=\u001b[0m \u001b[0mself\u001b[0m\u001b[1;33m.\u001b[0m\u001b[0mconv2d_d1\u001b[0m\u001b[1;33m(\u001b[0m\u001b[0minput\u001b[0m\u001b[1;33m)\u001b[0m\u001b[1;33m\u001b[0m\u001b[1;33m\u001b[0m\u001b[0m\n\u001b[0m\u001b[0;32m     35\u001b[0m         \u001b[0mprint\u001b[0m\u001b[1;33m(\u001b[0m\u001b[1;34m'dialation 1:'\u001b[0m\u001b[1;33m,\u001b[0m\u001b[0mmain1_d1\u001b[0m\u001b[1;33m.\u001b[0m\u001b[0mshape\u001b[0m\u001b[1;33m)\u001b[0m\u001b[1;33m\u001b[0m\u001b[1;33m\u001b[0m\u001b[0m\n\u001b[0;32m     36\u001b[0m         \u001b[0mmain2_d2\u001b[0m \u001b[1;33m=\u001b[0m \u001b[0mself\u001b[0m\u001b[1;33m.\u001b[0m\u001b[0mconv2d_d2\u001b[0m\u001b[1;33m(\u001b[0m\u001b[0minput\u001b[0m\u001b[1;33m)\u001b[0m\u001b[1;33m\u001b[0m\u001b[1;33m\u001b[0m\u001b[0m\n",
      "\u001b[1;32m~\\.conda\\envs\\torch\\lib\\site-packages\\torch\\nn\\modules\\module.py\u001b[0m in \u001b[0;36m_call_impl\u001b[1;34m(self, *input, **kwargs)\u001b[0m\n\u001b[0;32m   1049\u001b[0m         if not (self._backward_hooks or self._forward_hooks or self._forward_pre_hooks or _global_backward_hooks\n\u001b[0;32m   1050\u001b[0m                 or _global_forward_hooks or _global_forward_pre_hooks):\n\u001b[1;32m-> 1051\u001b[1;33m             \u001b[1;32mreturn\u001b[0m \u001b[0mforward_call\u001b[0m\u001b[1;33m(\u001b[0m\u001b[1;33m*\u001b[0m\u001b[0minput\u001b[0m\u001b[1;33m,\u001b[0m \u001b[1;33m**\u001b[0m\u001b[0mkwargs\u001b[0m\u001b[1;33m)\u001b[0m\u001b[1;33m\u001b[0m\u001b[1;33m\u001b[0m\u001b[0m\n\u001b[0m\u001b[0;32m   1052\u001b[0m         \u001b[1;31m# Do not call functions when jit is used\u001b[0m\u001b[1;33m\u001b[0m\u001b[1;33m\u001b[0m\u001b[1;33m\u001b[0m\u001b[0m\n\u001b[0;32m   1053\u001b[0m         \u001b[0mfull_backward_hooks\u001b[0m\u001b[1;33m,\u001b[0m \u001b[0mnon_full_backward_hooks\u001b[0m \u001b[1;33m=\u001b[0m \u001b[1;33m[\u001b[0m\u001b[1;33m]\u001b[0m\u001b[1;33m,\u001b[0m \u001b[1;33m[\u001b[0m\u001b[1;33m]\u001b[0m\u001b[1;33m\u001b[0m\u001b[1;33m\u001b[0m\u001b[0m\n",
      "\u001b[1;32m~\\.conda\\envs\\torch\\lib\\site-packages\\torch\\nn\\modules\\conv.py\u001b[0m in \u001b[0;36mforward\u001b[1;34m(self, input)\u001b[0m\n\u001b[0;32m    441\u001b[0m \u001b[1;33m\u001b[0m\u001b[0m\n\u001b[0;32m    442\u001b[0m     \u001b[1;32mdef\u001b[0m \u001b[0mforward\u001b[0m\u001b[1;33m(\u001b[0m\u001b[0mself\u001b[0m\u001b[1;33m,\u001b[0m \u001b[0minput\u001b[0m\u001b[1;33m:\u001b[0m \u001b[0mTensor\u001b[0m\u001b[1;33m)\u001b[0m \u001b[1;33m->\u001b[0m \u001b[0mTensor\u001b[0m\u001b[1;33m:\u001b[0m\u001b[1;33m\u001b[0m\u001b[1;33m\u001b[0m\u001b[0m\n\u001b[1;32m--> 443\u001b[1;33m         \u001b[1;32mreturn\u001b[0m \u001b[0mself\u001b[0m\u001b[1;33m.\u001b[0m\u001b[0m_conv_forward\u001b[0m\u001b[1;33m(\u001b[0m\u001b[0minput\u001b[0m\u001b[1;33m,\u001b[0m \u001b[0mself\u001b[0m\u001b[1;33m.\u001b[0m\u001b[0mweight\u001b[0m\u001b[1;33m,\u001b[0m \u001b[0mself\u001b[0m\u001b[1;33m.\u001b[0m\u001b[0mbias\u001b[0m\u001b[1;33m)\u001b[0m\u001b[1;33m\u001b[0m\u001b[1;33m\u001b[0m\u001b[0m\n\u001b[0m\u001b[0;32m    444\u001b[0m \u001b[1;33m\u001b[0m\u001b[0m\n\u001b[0;32m    445\u001b[0m \u001b[1;32mclass\u001b[0m \u001b[0mConv3d\u001b[0m\u001b[1;33m(\u001b[0m\u001b[0m_ConvNd\u001b[0m\u001b[1;33m)\u001b[0m\u001b[1;33m:\u001b[0m\u001b[1;33m\u001b[0m\u001b[1;33m\u001b[0m\u001b[0m\n",
      "\u001b[1;32m~\\.conda\\envs\\torch\\lib\\site-packages\\torch\\nn\\modules\\conv.py\u001b[0m in \u001b[0;36m_conv_forward\u001b[1;34m(self, input, weight, bias)\u001b[0m\n\u001b[0;32m    437\u001b[0m                             \u001b[0mweight\u001b[0m\u001b[1;33m,\u001b[0m \u001b[0mbias\u001b[0m\u001b[1;33m,\u001b[0m \u001b[0mself\u001b[0m\u001b[1;33m.\u001b[0m\u001b[0mstride\u001b[0m\u001b[1;33m,\u001b[0m\u001b[1;33m\u001b[0m\u001b[1;33m\u001b[0m\u001b[0m\n\u001b[0;32m    438\u001b[0m                             _pair(0), self.dilation, self.groups)\n\u001b[1;32m--> 439\u001b[1;33m         return F.conv2d(input, weight, bias, self.stride,\n\u001b[0m\u001b[0;32m    440\u001b[0m                         self.padding, self.dilation, self.groups)\n\u001b[0;32m    441\u001b[0m \u001b[1;33m\u001b[0m\u001b[0m\n",
      "\u001b[1;31mTypeError\u001b[0m: conv2d() received an invalid combination of arguments - got (ReLU, Parameter, NoneType, tuple, tuple, tuple, int), but expected one of:\n * (Tensor input, Tensor weight, Tensor bias, tuple of ints stride, tuple of ints padding, tuple of ints dilation, int groups)\n      didn't match because some of the arguments have invalid types: (!ReLU!, !Parameter!, !NoneType!, !tuple!, !tuple!, !tuple!, int)\n * (Tensor input, Tensor weight, Tensor bias, tuple of ints stride, str padding, tuple of ints dilation, int groups)\n      didn't match because some of the arguments have invalid types: (!ReLU!, !Parameter!, !NoneType!, !tuple!, !tuple!, !tuple!, int)\n"
     ]
    }
   ],
   "source": [
    "y = test(t)"
   ]
  },
  {
   "cell_type": "code",
   "execution_count": 299,
   "metadata": {},
   "outputs": [],
   "source": [
    "class Decoder(nn.Module):\r\n",
    "    def __init__(self, num_classes):\r\n",
    "        super().__init__()\r\n",
    "        self.upsample_1 = Upsample(in_channels=128, out_channels=64)\r\n",
    "        self.regular_de_1 = Regular(in_channels=64 ,out_channels=64,kernel_size=3, padding=0, out_channels_div=[22,21,21], relu=True)\r\n",
    "        \r\n",
    "        self.upsample_2 = Upsample(in_channels=64, out_channels=32)\r\n",
    "        self.regular_de_2 = Regular(in_channels=32, out_channels=32, kernel_size=3 ,out_channels_div=[12,11,11], padding=0,relu=True)\r\n",
    "        self.upsample_3 = Regular(in_channels=32,out_channels=num_classes)\r\n",
    "\r\n",
    "    def forward(self, input):\r\n",
    "        x = self.upsample_1(input)\r\n",
    "        x = self.regular_de_1(x)\r\n",
    "        x = self.upsample_2(x)\r\n",
    "        x = self.regular_de_2(x)\r\n",
    "        x= self.upsample_3(x)\r\n",
    "\r\n",
    "    \r\n",
    "        return x\r\n"
   ]
  },
  {
   "cell_type": "code",
   "execution_count": 294,
   "metadata": {},
   "outputs": [],
   "source": [
    "mod = Decoder(num_classes=3)"
   ]
  },
  {
   "cell_type": "code",
   "execution_count": 295,
   "metadata": {},
   "outputs": [
    {
     "name": "stdout",
     "output_type": "stream",
     "text": [
      "Input Shape:  torch.Size([1, 128, 44, 79])\n",
      "Output Shape:  torch.Size([1, 64, 89, 159])\n"
     ]
    },
    {
     "ename": "TypeError",
     "evalue": "conv2d() received an invalid combination of arguments - got (ReLU, Parameter, NoneType, tuple, tuple, tuple, int), but expected one of:\n * (Tensor input, Tensor weight, Tensor bias, tuple of ints stride, tuple of ints padding, tuple of ints dilation, int groups)\n      didn't match because some of the arguments have invalid types: (!ReLU!, !Parameter!, !NoneType!, !tuple!, !tuple!, !tuple!, int)\n * (Tensor input, Tensor weight, Tensor bias, tuple of ints stride, str padding, tuple of ints dilation, int groups)\n      didn't match because some of the arguments have invalid types: (!ReLU!, !Parameter!, !NoneType!, !tuple!, !tuple!, !tuple!, int)\n",
     "output_type": "error",
     "traceback": [
      "\u001b[1;31m---------------------------------------------------------------------------\u001b[0m",
      "\u001b[1;31mTypeError\u001b[0m                                 Traceback (most recent call last)",
      "\u001b[1;32m~\\AppData\\Local\\Temp/ipykernel_2936/2936587421.py\u001b[0m in \u001b[0;36m<module>\u001b[1;34m\u001b[0m\n\u001b[1;32m----> 1\u001b[1;33m \u001b[0my\u001b[0m \u001b[1;33m=\u001b[0m \u001b[0mmod\u001b[0m\u001b[1;33m(\u001b[0m\u001b[0mt\u001b[0m\u001b[1;33m)\u001b[0m\u001b[1;33m\u001b[0m\u001b[1;33m\u001b[0m\u001b[0m\n\u001b[0m",
      "\u001b[1;32m~\\.conda\\envs\\torch\\lib\\site-packages\\torch\\nn\\modules\\module.py\u001b[0m in \u001b[0;36m_call_impl\u001b[1;34m(self, *input, **kwargs)\u001b[0m\n\u001b[0;32m   1049\u001b[0m         if not (self._backward_hooks or self._forward_hooks or self._forward_pre_hooks or _global_backward_hooks\n\u001b[0;32m   1050\u001b[0m                 or _global_forward_hooks or _global_forward_pre_hooks):\n\u001b[1;32m-> 1051\u001b[1;33m             \u001b[1;32mreturn\u001b[0m \u001b[0mforward_call\u001b[0m\u001b[1;33m(\u001b[0m\u001b[1;33m*\u001b[0m\u001b[0minput\u001b[0m\u001b[1;33m,\u001b[0m \u001b[1;33m**\u001b[0m\u001b[0mkwargs\u001b[0m\u001b[1;33m)\u001b[0m\u001b[1;33m\u001b[0m\u001b[1;33m\u001b[0m\u001b[0m\n\u001b[0m\u001b[0;32m   1052\u001b[0m         \u001b[1;31m# Do not call functions when jit is used\u001b[0m\u001b[1;33m\u001b[0m\u001b[1;33m\u001b[0m\u001b[1;33m\u001b[0m\u001b[0m\n\u001b[0;32m   1053\u001b[0m         \u001b[0mfull_backward_hooks\u001b[0m\u001b[1;33m,\u001b[0m \u001b[0mnon_full_backward_hooks\u001b[0m \u001b[1;33m=\u001b[0m \u001b[1;33m[\u001b[0m\u001b[1;33m]\u001b[0m\u001b[1;33m,\u001b[0m \u001b[1;33m[\u001b[0m\u001b[1;33m]\u001b[0m\u001b[1;33m\u001b[0m\u001b[1;33m\u001b[0m\u001b[0m\n",
      "\u001b[1;32m~\\AppData\\Local\\Temp/ipykernel_2936/3234965783.py\u001b[0m in \u001b[0;36mforward\u001b[1;34m(self, input)\u001b[0m\n\u001b[0;32m     11\u001b[0m     \u001b[1;32mdef\u001b[0m \u001b[0mforward\u001b[0m\u001b[1;33m(\u001b[0m\u001b[0mself\u001b[0m\u001b[1;33m,\u001b[0m \u001b[0minput\u001b[0m\u001b[1;33m)\u001b[0m\u001b[1;33m:\u001b[0m\u001b[1;33m\u001b[0m\u001b[1;33m\u001b[0m\u001b[0m\n\u001b[0;32m     12\u001b[0m         \u001b[0mx\u001b[0m \u001b[1;33m=\u001b[0m \u001b[0mself\u001b[0m\u001b[1;33m.\u001b[0m\u001b[0mupsample_1\u001b[0m\u001b[1;33m(\u001b[0m\u001b[0minput\u001b[0m\u001b[1;33m)\u001b[0m\u001b[1;33m\u001b[0m\u001b[1;33m\u001b[0m\u001b[0m\n\u001b[1;32m---> 13\u001b[1;33m         \u001b[0mx\u001b[0m \u001b[1;33m=\u001b[0m \u001b[0mself\u001b[0m\u001b[1;33m.\u001b[0m\u001b[0mregular_de_1\u001b[0m\u001b[1;33m(\u001b[0m\u001b[0mx\u001b[0m\u001b[1;33m)\u001b[0m\u001b[1;33m\u001b[0m\u001b[1;33m\u001b[0m\u001b[0m\n\u001b[0m\u001b[0;32m     14\u001b[0m         \u001b[0mx\u001b[0m \u001b[1;33m=\u001b[0m \u001b[0mself\u001b[0m\u001b[1;33m.\u001b[0m\u001b[0mupsample_2\u001b[0m\u001b[1;33m(\u001b[0m\u001b[0mx\u001b[0m\u001b[1;33m)\u001b[0m\u001b[1;33m\u001b[0m\u001b[1;33m\u001b[0m\u001b[0m\n\u001b[0;32m     15\u001b[0m         \u001b[0mx\u001b[0m \u001b[1;33m=\u001b[0m \u001b[0mself\u001b[0m\u001b[1;33m.\u001b[0m\u001b[0mregular_de_2\u001b[0m\u001b[1;33m(\u001b[0m\u001b[0mx\u001b[0m\u001b[1;33m)\u001b[0m\u001b[1;33m\u001b[0m\u001b[1;33m\u001b[0m\u001b[0m\n",
      "\u001b[1;32m~\\.conda\\envs\\torch\\lib\\site-packages\\torch\\nn\\modules\\module.py\u001b[0m in \u001b[0;36m_call_impl\u001b[1;34m(self, *input, **kwargs)\u001b[0m\n\u001b[0;32m   1049\u001b[0m         if not (self._backward_hooks or self._forward_hooks or self._forward_pre_hooks or _global_backward_hooks\n\u001b[0;32m   1050\u001b[0m                 or _global_forward_hooks or _global_forward_pre_hooks):\n\u001b[1;32m-> 1051\u001b[1;33m             \u001b[1;32mreturn\u001b[0m \u001b[0mforward_call\u001b[0m\u001b[1;33m(\u001b[0m\u001b[1;33m*\u001b[0m\u001b[0minput\u001b[0m\u001b[1;33m,\u001b[0m \u001b[1;33m**\u001b[0m\u001b[0mkwargs\u001b[0m\u001b[1;33m)\u001b[0m\u001b[1;33m\u001b[0m\u001b[1;33m\u001b[0m\u001b[0m\n\u001b[0m\u001b[0;32m   1052\u001b[0m         \u001b[1;31m# Do not call functions when jit is used\u001b[0m\u001b[1;33m\u001b[0m\u001b[1;33m\u001b[0m\u001b[1;33m\u001b[0m\u001b[0m\n\u001b[0;32m   1053\u001b[0m         \u001b[0mfull_backward_hooks\u001b[0m\u001b[1;33m,\u001b[0m \u001b[0mnon_full_backward_hooks\u001b[0m \u001b[1;33m=\u001b[0m \u001b[1;33m[\u001b[0m\u001b[1;33m]\u001b[0m\u001b[1;33m,\u001b[0m \u001b[1;33m[\u001b[0m\u001b[1;33m]\u001b[0m\u001b[1;33m\u001b[0m\u001b[1;33m\u001b[0m\u001b[0m\n",
      "\u001b[1;32m~\\AppData\\Local\\Temp/ipykernel_2936/2299719665.py\u001b[0m in \u001b[0;36mforward\u001b[1;34m(self, input)\u001b[0m\n\u001b[0;32m     32\u001b[0m     \u001b[1;32mdef\u001b[0m \u001b[0mforward\u001b[0m\u001b[1;33m(\u001b[0m\u001b[0mself\u001b[0m\u001b[1;33m,\u001b[0m \u001b[0minput\u001b[0m\u001b[1;33m)\u001b[0m\u001b[1;33m:\u001b[0m\u001b[1;33m\u001b[0m\u001b[1;33m\u001b[0m\u001b[0m\n\u001b[0;32m     33\u001b[0m         \u001b[1;31m# print('input:', input.shape)\u001b[0m\u001b[1;33m\u001b[0m\u001b[1;33m\u001b[0m\u001b[1;33m\u001b[0m\u001b[0m\n\u001b[1;32m---> 34\u001b[1;33m         \u001b[0mmain1_d1\u001b[0m\u001b[1;33m=\u001b[0m \u001b[0mself\u001b[0m\u001b[1;33m.\u001b[0m\u001b[0mconv2d_d1\u001b[0m\u001b[1;33m(\u001b[0m\u001b[0minput\u001b[0m\u001b[1;33m)\u001b[0m\u001b[1;33m\u001b[0m\u001b[1;33m\u001b[0m\u001b[0m\n\u001b[0m\u001b[0;32m     35\u001b[0m         \u001b[0mprint\u001b[0m\u001b[1;33m(\u001b[0m\u001b[1;34m'dialation 1:'\u001b[0m\u001b[1;33m,\u001b[0m\u001b[0mmain1_d1\u001b[0m\u001b[1;33m.\u001b[0m\u001b[0mshape\u001b[0m\u001b[1;33m)\u001b[0m\u001b[1;33m\u001b[0m\u001b[1;33m\u001b[0m\u001b[0m\n\u001b[0;32m     36\u001b[0m         \u001b[0mmain2_d2\u001b[0m \u001b[1;33m=\u001b[0m \u001b[0mself\u001b[0m\u001b[1;33m.\u001b[0m\u001b[0mconv2d_d2\u001b[0m\u001b[1;33m(\u001b[0m\u001b[0minput\u001b[0m\u001b[1;33m)\u001b[0m\u001b[1;33m\u001b[0m\u001b[1;33m\u001b[0m\u001b[0m\n",
      "\u001b[1;32m~\\.conda\\envs\\torch\\lib\\site-packages\\torch\\nn\\modules\\module.py\u001b[0m in \u001b[0;36m_call_impl\u001b[1;34m(self, *input, **kwargs)\u001b[0m\n\u001b[0;32m   1049\u001b[0m         if not (self._backward_hooks or self._forward_hooks or self._forward_pre_hooks or _global_backward_hooks\n\u001b[0;32m   1050\u001b[0m                 or _global_forward_hooks or _global_forward_pre_hooks):\n\u001b[1;32m-> 1051\u001b[1;33m             \u001b[1;32mreturn\u001b[0m \u001b[0mforward_call\u001b[0m\u001b[1;33m(\u001b[0m\u001b[1;33m*\u001b[0m\u001b[0minput\u001b[0m\u001b[1;33m,\u001b[0m \u001b[1;33m**\u001b[0m\u001b[0mkwargs\u001b[0m\u001b[1;33m)\u001b[0m\u001b[1;33m\u001b[0m\u001b[1;33m\u001b[0m\u001b[0m\n\u001b[0m\u001b[0;32m   1052\u001b[0m         \u001b[1;31m# Do not call functions when jit is used\u001b[0m\u001b[1;33m\u001b[0m\u001b[1;33m\u001b[0m\u001b[1;33m\u001b[0m\u001b[0m\n\u001b[0;32m   1053\u001b[0m         \u001b[0mfull_backward_hooks\u001b[0m\u001b[1;33m,\u001b[0m \u001b[0mnon_full_backward_hooks\u001b[0m \u001b[1;33m=\u001b[0m \u001b[1;33m[\u001b[0m\u001b[1;33m]\u001b[0m\u001b[1;33m,\u001b[0m \u001b[1;33m[\u001b[0m\u001b[1;33m]\u001b[0m\u001b[1;33m\u001b[0m\u001b[1;33m\u001b[0m\u001b[0m\n",
      "\u001b[1;32m~\\.conda\\envs\\torch\\lib\\site-packages\\torch\\nn\\modules\\conv.py\u001b[0m in \u001b[0;36mforward\u001b[1;34m(self, input)\u001b[0m\n\u001b[0;32m    441\u001b[0m \u001b[1;33m\u001b[0m\u001b[0m\n\u001b[0;32m    442\u001b[0m     \u001b[1;32mdef\u001b[0m \u001b[0mforward\u001b[0m\u001b[1;33m(\u001b[0m\u001b[0mself\u001b[0m\u001b[1;33m,\u001b[0m \u001b[0minput\u001b[0m\u001b[1;33m:\u001b[0m \u001b[0mTensor\u001b[0m\u001b[1;33m)\u001b[0m \u001b[1;33m->\u001b[0m \u001b[0mTensor\u001b[0m\u001b[1;33m:\u001b[0m\u001b[1;33m\u001b[0m\u001b[1;33m\u001b[0m\u001b[0m\n\u001b[1;32m--> 443\u001b[1;33m         \u001b[1;32mreturn\u001b[0m \u001b[0mself\u001b[0m\u001b[1;33m.\u001b[0m\u001b[0m_conv_forward\u001b[0m\u001b[1;33m(\u001b[0m\u001b[0minput\u001b[0m\u001b[1;33m,\u001b[0m \u001b[0mself\u001b[0m\u001b[1;33m.\u001b[0m\u001b[0mweight\u001b[0m\u001b[1;33m,\u001b[0m \u001b[0mself\u001b[0m\u001b[1;33m.\u001b[0m\u001b[0mbias\u001b[0m\u001b[1;33m)\u001b[0m\u001b[1;33m\u001b[0m\u001b[1;33m\u001b[0m\u001b[0m\n\u001b[0m\u001b[0;32m    444\u001b[0m \u001b[1;33m\u001b[0m\u001b[0m\n\u001b[0;32m    445\u001b[0m \u001b[1;32mclass\u001b[0m \u001b[0mConv3d\u001b[0m\u001b[1;33m(\u001b[0m\u001b[0m_ConvNd\u001b[0m\u001b[1;33m)\u001b[0m\u001b[1;33m:\u001b[0m\u001b[1;33m\u001b[0m\u001b[1;33m\u001b[0m\u001b[0m\n",
      "\u001b[1;32m~\\.conda\\envs\\torch\\lib\\site-packages\\torch\\nn\\modules\\conv.py\u001b[0m in \u001b[0;36m_conv_forward\u001b[1;34m(self, input, weight, bias)\u001b[0m\n\u001b[0;32m    437\u001b[0m                             \u001b[0mweight\u001b[0m\u001b[1;33m,\u001b[0m \u001b[0mbias\u001b[0m\u001b[1;33m,\u001b[0m \u001b[0mself\u001b[0m\u001b[1;33m.\u001b[0m\u001b[0mstride\u001b[0m\u001b[1;33m,\u001b[0m\u001b[1;33m\u001b[0m\u001b[1;33m\u001b[0m\u001b[0m\n\u001b[0;32m    438\u001b[0m                             _pair(0), self.dilation, self.groups)\n\u001b[1;32m--> 439\u001b[1;33m         return F.conv2d(input, weight, bias, self.stride,\n\u001b[0m\u001b[0;32m    440\u001b[0m                         self.padding, self.dilation, self.groups)\n\u001b[0;32m    441\u001b[0m \u001b[1;33m\u001b[0m\u001b[0m\n",
      "\u001b[1;31mTypeError\u001b[0m: conv2d() received an invalid combination of arguments - got (ReLU, Parameter, NoneType, tuple, tuple, tuple, int), but expected one of:\n * (Tensor input, Tensor weight, Tensor bias, tuple of ints stride, tuple of ints padding, tuple of ints dilation, int groups)\n      didn't match because some of the arguments have invalid types: (!ReLU!, !Parameter!, !NoneType!, !tuple!, !tuple!, !tuple!, int)\n * (Tensor input, Tensor weight, Tensor bias, tuple of ints stride, str padding, tuple of ints dilation, int groups)\n      didn't match because some of the arguments have invalid types: (!ReLU!, !Parameter!, !NoneType!, !tuple!, !tuple!, !tuple!, int)\n"
     ]
    }
   ],
   "source": [
    "y = mod(t)"
   ]
  },
  {
   "cell_type": "code",
   "execution_count": null,
   "metadata": {},
   "outputs": [],
   "source": []
  },
  {
   "cell_type": "code",
   "execution_count": null,
   "metadata": {},
   "outputs": [],
   "source": []
  }
 ],
 "metadata": {
  "interpreter": {
   "hash": "a48b01b56eccf21866b656d691e7a6d227bd9cd6c49ca5cde9f5de391096b96f"
  },
  "kernelspec": {
   "display_name": "Python 3.8.0 64-bit ('torch': conda)",
   "name": "python3"
  },
  "language_info": {
   "codemirror_mode": {
    "name": "ipython",
    "version": 3
   },
   "file_extension": ".py",
   "mimetype": "text/x-python",
   "name": "python",
   "nbconvert_exporter": "python",
   "pygments_lexer": "ipython3",
   "version": "3.8.0"
  },
  "orig_nbformat": 4
 },
 "nbformat": 4,
 "nbformat_minor": 2
}